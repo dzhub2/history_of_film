{
 "cells": [
  {
   "cell_type": "code",
   "execution_count": 1,
   "metadata": {},
   "outputs": [
    {
     "data": {
      "text/plain": [
       "' Create dialogue corpus for movies based on :'"
      ]
     },
     "execution_count": 1,
     "metadata": {},
     "output_type": "execute_result"
    }
   ],
   "source": [
    "\"\"\" Create dialogue corpus for movies based on :\"\"\""
   ]
  },
  {
   "cell_type": "code",
   "execution_count": 1,
   "metadata": {},
   "outputs": [
    {
     "data": {
      "text/plain": [
       "<module 'helper_functions' from 'c:\\\\Users\\\\Me\\\\Courses\\\\Spiced_DS\\\\git_repos\\\\finalproject\\\\helper_functions.py'>"
      ]
     },
     "execution_count": 1,
     "metadata": {},
     "output_type": "execute_result"
    }
   ],
   "source": [
    "from convokit import Corpus, download\n",
    "import pandas as pd\n",
    "import os\n",
    "from vaderSentiment.vaderSentiment import SentimentIntensityAnalyzer\n",
    "import numpy as np\n",
    "\n",
    "from importlib import reload\n",
    "import  helper_functions as hf\n",
    "reload(hf)"
   ]
  },
  {
   "cell_type": "code",
   "execution_count": 2,
   "metadata": {},
   "outputs": [
    {
     "name": "stdout",
     "output_type": "stream",
     "text": [
      "Downloading movie-corpus to C:\\Users\\Me\\.convokit\\downloads\\movie-corpus\n",
      "Downloading movie-corpus from http://zissou.infosci.cornell.edu/convokit/datasets/movie-corpus/movie-corpus.zip (40.9MB)... Done\n"
     ]
    }
   ],
   "source": [
    "# download data\n",
    "data = Corpus(filename=download(\"movie-corpus\"))"
   ]
  },
  {
   "cell_type": "code",
   "execution_count": 3,
   "metadata": {},
   "outputs": [],
   "source": [
    "# create dataframes \n",
    "conversations = data.get_conversations_dataframe()\n",
    "utterances = data.get_utterances_dataframe()\n",
    "utterances = utterances.rename(columns={'meta.movie_id':'meta.movie_idx'})"
   ]
  },
  {
   "cell_type": "code",
   "execution_count": 4,
   "metadata": {},
   "outputs": [
    {
     "name": "stdout",
     "output_type": "stream",
     "text": [
      "      vectors meta.movie_idx             meta.movie_name meta.release_year  \\\n",
      "id                                                                           \n",
      "L1044      []             m0  10 things i hate about you              1999   \n",
      "L984       []             m0  10 things i hate about you              1999   \n",
      "L924       []             m0  10 things i hate about you              1999   \n",
      "L870       []             m0  10 things i hate about you              1999   \n",
      "L866       []             m0  10 things i hate about you              1999   \n",
      "\n",
      "      meta.rating meta.votes             meta.genre  \n",
      "id                                                   \n",
      "L1044        6.90      62847  ['comedy', 'romance']  \n",
      "L984         6.90      62847  ['comedy', 'romance']  \n",
      "L924         6.90      62847  ['comedy', 'romance']  \n",
      "L870         6.90      62847  ['comedy', 'romance']  \n",
      "L866         6.90      62847  ['comedy', 'romance']  \n",
      "      timestamp          text speaker reply_to conversation_id meta.movie_idx  \\\n",
      "id                                                                              \n",
      "L1045      None  They do not!      u0    L1044           L1044             m0   \n",
      "L1044      None   They do to!      u2     None           L1044             m0   \n",
      "L985       None    I hope so.      u0     L984            L984             m0   \n",
      "L984       None     She okay?      u2     None            L984             m0   \n",
      "L925       None     Let's go.      u0     L924            L924             m0   \n",
      "\n",
      "                                             meta.parsed vectors  \n",
      "id                                                                \n",
      "L1045  [{'rt': 1, 'toks': [{'tok': 'They', 'tag': 'PR...      []  \n",
      "L1044  [{'rt': 1, 'toks': [{'tok': 'They', 'tag': 'PR...      []  \n",
      "L985   [{'rt': 1, 'toks': [{'tok': 'I', 'tag': 'PRP',...      []  \n",
      "L984   [{'rt': 1, 'toks': [{'tok': 'She', 'tag': 'PRP...      []  \n",
      "L925   [{'rt': 0, 'toks': [{'tok': 'Let', 'tag': 'VB'...      []  \n"
     ]
    }
   ],
   "source": [
    "print(conversations.head(5))\n",
    "print(utterances.head(5))"
   ]
  },
  {
   "cell_type": "code",
   "execution_count": null,
   "metadata": {},
   "outputs": [],
   "source": [
    "print(\"Movies contained in this dataset:\")\n",
    "print(conversations['meta.movie_name'].unique())"
   ]
  },
  {
   "cell_type": "code",
   "execution_count": null,
   "metadata": {},
   "outputs": [],
   "source": [
    "# combine all texts/quotes of a movie together\n",
    "scripts = utterances.groupby('meta.movie_idx')['text'].unique().str.join(' ')\n",
    "scripts = pd.DataFrame(scripts)\n",
    "# select relevant columns\n",
    "conversations = conversations[['meta.movie_idx','meta.movie_name']].set_index('meta.movie_idx')\n",
    "# combine texts and movies\n",
    "corpus = scripts.join(conversations, on='meta.movie_idx').drop_duplicates()\n",
    "corpus = corpus.rename(columns={'meta.movie_name':'movie'})\n",
    "corpus.index.name='idx'"
   ]
  },
  {
   "cell_type": "code",
   "execution_count": null,
   "metadata": {},
   "outputs": [],
   "source": [
    "print(corpus)"
   ]
  },
  {
   "cell_type": "code",
   "execution_count": null,
   "metadata": {},
   "outputs": [],
   "source": [
    "corpus_cleaned = hf.clean_dialogue_corpus(corpus)\n",
    "corpus_cleaned = hf.clean_movie_titles(corpus_cleaned)"
   ]
  },
  {
   "cell_type": "code",
   "execution_count": null,
   "metadata": {},
   "outputs": [],
   "source": [
    "# save cleaned corpus to csv file\n",
    "os.makedirs('./output/', exist_ok=True)  \n",
    "#corpus_cleaned.to_csv('./output/dialogue_corpus.csv', index=True)  "
   ]
  },
  {
   "cell_type": "code",
   "execution_count": 12,
   "metadata": {},
   "outputs": [
    {
     "data": {
      "text/html": [
       "<div>\n",
       "<style scoped>\n",
       "    .dataframe tbody tr th:only-of-type {\n",
       "        vertical-align: middle;\n",
       "    }\n",
       "\n",
       "    .dataframe tbody tr th {\n",
       "        vertical-align: top;\n",
       "    }\n",
       "\n",
       "    .dataframe thead th {\n",
       "        text-align: right;\n",
       "    }\n",
       "</style>\n",
       "<table border=\"1\" class=\"dataframe\">\n",
       "  <thead>\n",
       "    <tr style=\"text-align: right;\">\n",
       "      <th></th>\n",
       "      <th>timestamp</th>\n",
       "      <th>text</th>\n",
       "      <th>speaker</th>\n",
       "      <th>reply_to</th>\n",
       "      <th>conversation_id</th>\n",
       "      <th>meta.movie_idx</th>\n",
       "      <th>meta.parsed</th>\n",
       "      <th>vectors</th>\n",
       "      <th>sentiment</th>\n",
       "    </tr>\n",
       "    <tr>\n",
       "      <th>id</th>\n",
       "      <th></th>\n",
       "      <th></th>\n",
       "      <th></th>\n",
       "      <th></th>\n",
       "      <th></th>\n",
       "      <th></th>\n",
       "      <th></th>\n",
       "      <th></th>\n",
       "      <th></th>\n",
       "    </tr>\n",
       "  </thead>\n",
       "  <tbody>\n",
       "    <tr>\n",
       "      <th>L1045</th>\n",
       "      <td>None</td>\n",
       "      <td>They do not!</td>\n",
       "      <td>u0</td>\n",
       "      <td>L1044</td>\n",
       "      <td>L1044</td>\n",
       "      <td>m0</td>\n",
       "      <td>[{'rt': 1, 'toks': [{'tok': 'They', 'tag': 'PR...</td>\n",
       "      <td>[]</td>\n",
       "      <td>NaN</td>\n",
       "    </tr>\n",
       "    <tr>\n",
       "      <th>L1044</th>\n",
       "      <td>None</td>\n",
       "      <td>They do to!</td>\n",
       "      <td>u2</td>\n",
       "      <td>None</td>\n",
       "      <td>L1044</td>\n",
       "      <td>m0</td>\n",
       "      <td>[{'rt': 1, 'toks': [{'tok': 'They', 'tag': 'PR...</td>\n",
       "      <td>[]</td>\n",
       "      <td>NaN</td>\n",
       "    </tr>\n",
       "    <tr>\n",
       "      <th>L985</th>\n",
       "      <td>None</td>\n",
       "      <td>I hope so.</td>\n",
       "      <td>u0</td>\n",
       "      <td>L984</td>\n",
       "      <td>L984</td>\n",
       "      <td>m0</td>\n",
       "      <td>[{'rt': 1, 'toks': [{'tok': 'I', 'tag': 'PRP',...</td>\n",
       "      <td>[]</td>\n",
       "      <td>NaN</td>\n",
       "    </tr>\n",
       "    <tr>\n",
       "      <th>L984</th>\n",
       "      <td>None</td>\n",
       "      <td>She okay?</td>\n",
       "      <td>u2</td>\n",
       "      <td>None</td>\n",
       "      <td>L984</td>\n",
       "      <td>m0</td>\n",
       "      <td>[{'rt': 1, 'toks': [{'tok': 'She', 'tag': 'PRP...</td>\n",
       "      <td>[]</td>\n",
       "      <td>NaN</td>\n",
       "    </tr>\n",
       "    <tr>\n",
       "      <th>L925</th>\n",
       "      <td>None</td>\n",
       "      <td>Let's go.</td>\n",
       "      <td>u0</td>\n",
       "      <td>L924</td>\n",
       "      <td>L924</td>\n",
       "      <td>m0</td>\n",
       "      <td>[{'rt': 0, 'toks': [{'tok': 'Let', 'tag': 'VB'...</td>\n",
       "      <td>[]</td>\n",
       "      <td>NaN</td>\n",
       "    </tr>\n",
       "    <tr>\n",
       "      <th>...</th>\n",
       "      <td>...</td>\n",
       "      <td>...</td>\n",
       "      <td>...</td>\n",
       "      <td>...</td>\n",
       "      <td>...</td>\n",
       "      <td>...</td>\n",
       "      <td>...</td>\n",
       "      <td>...</td>\n",
       "      <td>...</td>\n",
       "    </tr>\n",
       "    <tr>\n",
       "      <th>L666371</th>\n",
       "      <td>None</td>\n",
       "      <td>Lord Chelmsford seems to want me to stay back ...</td>\n",
       "      <td>u9030</td>\n",
       "      <td>L666370</td>\n",
       "      <td>L666369</td>\n",
       "      <td>m616</td>\n",
       "      <td>[{'rt': 2, 'toks': [{'tok': 'Lord', 'tag': 'NN...</td>\n",
       "      <td>[]</td>\n",
       "      <td>NaN</td>\n",
       "    </tr>\n",
       "    <tr>\n",
       "      <th>L666370</th>\n",
       "      <td>None</td>\n",
       "      <td>I'm to take the Sikali with the main column to...</td>\n",
       "      <td>u9034</td>\n",
       "      <td>L666369</td>\n",
       "      <td>L666369</td>\n",
       "      <td>m616</td>\n",
       "      <td>[{'rt': 1, 'toks': [{'tok': 'I', 'tag': 'PRP',...</td>\n",
       "      <td>[]</td>\n",
       "      <td>NaN</td>\n",
       "    </tr>\n",
       "    <tr>\n",
       "      <th>L666369</th>\n",
       "      <td>None</td>\n",
       "      <td>Your orders, Mr Vereker?</td>\n",
       "      <td>u9030</td>\n",
       "      <td>None</td>\n",
       "      <td>L666369</td>\n",
       "      <td>m616</td>\n",
       "      <td>[{'rt': 1, 'toks': [{'tok': 'Your', 'tag': 'PR...</td>\n",
       "      <td>[]</td>\n",
       "      <td>NaN</td>\n",
       "    </tr>\n",
       "    <tr>\n",
       "      <th>L666257</th>\n",
       "      <td>None</td>\n",
       "      <td>Good ones, yes, Mr Vereker. Gentlemen who can ...</td>\n",
       "      <td>u9030</td>\n",
       "      <td>L666256</td>\n",
       "      <td>L666256</td>\n",
       "      <td>m616</td>\n",
       "      <td>[{'rt': 1, 'toks': [{'tok': 'Good', 'tag': 'JJ...</td>\n",
       "      <td>[]</td>\n",
       "      <td>NaN</td>\n",
       "    </tr>\n",
       "    <tr>\n",
       "      <th>L666256</th>\n",
       "      <td>None</td>\n",
       "      <td>Colonel Durnford... William Vereker. I hear yo...</td>\n",
       "      <td>u9034</td>\n",
       "      <td>None</td>\n",
       "      <td>L666256</td>\n",
       "      <td>m616</td>\n",
       "      <td>[{'rt': 1, 'toks': [{'tok': 'Colonel', 'tag': ...</td>\n",
       "      <td>[]</td>\n",
       "      <td>NaN</td>\n",
       "    </tr>\n",
       "  </tbody>\n",
       "</table>\n",
       "<p>304713 rows × 9 columns</p>\n",
       "</div>"
      ],
      "text/plain": [
       "        timestamp                                               text speaker  \\\n",
       "id                                                                             \n",
       "L1045        None                                       They do not!      u0   \n",
       "L1044        None                                        They do to!      u2   \n",
       "L985         None                                         I hope so.      u0   \n",
       "L984         None                                          She okay?      u2   \n",
       "L925         None                                          Let's go.      u0   \n",
       "...           ...                                                ...     ...   \n",
       "L666371      None  Lord Chelmsford seems to want me to stay back ...   u9030   \n",
       "L666370      None  I'm to take the Sikali with the main column to...   u9034   \n",
       "L666369      None                           Your orders, Mr Vereker?   u9030   \n",
       "L666257      None  Good ones, yes, Mr Vereker. Gentlemen who can ...   u9030   \n",
       "L666256      None  Colonel Durnford... William Vereker. I hear yo...   u9034   \n",
       "\n",
       "        reply_to conversation_id meta.movie_idx  \\\n",
       "id                                                \n",
       "L1045      L1044           L1044             m0   \n",
       "L1044       None           L1044             m0   \n",
       "L985        L984            L984             m0   \n",
       "L984        None            L984             m0   \n",
       "L925        L924            L924             m0   \n",
       "...          ...             ...            ...   \n",
       "L666371  L666370         L666369           m616   \n",
       "L666370  L666369         L666369           m616   \n",
       "L666369     None         L666369           m616   \n",
       "L666257  L666256         L666256           m616   \n",
       "L666256     None         L666256           m616   \n",
       "\n",
       "                                               meta.parsed vectors  sentiment  \n",
       "id                                                                             \n",
       "L1045    [{'rt': 1, 'toks': [{'tok': 'They', 'tag': 'PR...      []        NaN  \n",
       "L1044    [{'rt': 1, 'toks': [{'tok': 'They', 'tag': 'PR...      []        NaN  \n",
       "L985     [{'rt': 1, 'toks': [{'tok': 'I', 'tag': 'PRP',...      []        NaN  \n",
       "L984     [{'rt': 1, 'toks': [{'tok': 'She', 'tag': 'PRP...      []        NaN  \n",
       "L925     [{'rt': 0, 'toks': [{'tok': 'Let', 'tag': 'VB'...      []        NaN  \n",
       "...                                                    ...     ...        ...  \n",
       "L666371  [{'rt': 2, 'toks': [{'tok': 'Lord', 'tag': 'NN...      []        NaN  \n",
       "L666370  [{'rt': 1, 'toks': [{'tok': 'I', 'tag': 'PRP',...      []        NaN  \n",
       "L666369  [{'rt': 1, 'toks': [{'tok': 'Your', 'tag': 'PR...      []        NaN  \n",
       "L666257  [{'rt': 1, 'toks': [{'tok': 'Good', 'tag': 'JJ...      []        NaN  \n",
       "L666256  [{'rt': 1, 'toks': [{'tok': 'Colonel', 'tag': ...      []        NaN  \n",
       "\n",
       "[304713 rows x 9 columns]"
      ]
     },
     "execution_count": 12,
     "metadata": {},
     "output_type": "execute_result"
    }
   ],
   "source": [
    "# sentiment analysis\n",
    "utterances_sentiment = utterances.copy()\n",
    "utterances_sentiment['sentiment'] = np.nan\n",
    "utterances_sentiment"
   ]
  },
  {
   "cell_type": "code",
   "execution_count": 13,
   "metadata": {},
   "outputs": [],
   "source": [
    "# run sentiment analysis-vader\n",
    "s  = SentimentIntensityAnalyzer()\n",
    "for idx, line in enumerate(utterances_sentiment['text']):\n",
    "    sentiment = s.polarity_scores(line)\n",
    "    score = sentiment['compound']\n",
    "    utterances_sentiment.loc[idx,'sentiment'] = score\n",
    "    #print(news)\n",
    "    #print(sentiment)\n"
   ]
  }
 ],
 "metadata": {
  "kernelspec": {
   "display_name": "base",
   "language": "python",
   "name": "python3"
  },
  "language_info": {
   "codemirror_mode": {
    "name": "ipython",
    "version": 3
   },
   "file_extension": ".py",
   "mimetype": "text/x-python",
   "name": "python",
   "nbconvert_exporter": "python",
   "pygments_lexer": "ipython3",
   "version": "3.9.12"
  },
  "orig_nbformat": 4,
  "vscode": {
   "interpreter": {
    "hash": "6deebe2b6c7a3fc5cd075ffe89f3ba7e7310f85d9af63e76c7275543219241fc"
   }
  }
 },
 "nbformat": 4,
 "nbformat_minor": 2
}
